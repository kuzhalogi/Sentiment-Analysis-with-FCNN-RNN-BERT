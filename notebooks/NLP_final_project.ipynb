{
  "cells": [
    {
      "cell_type": "code",
      "execution_count": 1,
      "metadata": {
        "colab": {
          "base_uri": "https://localhost:8080/"
        },
        "id": "imE3bjfO59lu",
        "outputId": "e16e74a0-3eb5-4023-ceec-622fd51abc32"
      },
      "outputs": [
        {
          "name": "stdout",
          "output_type": "stream",
          "text": [
            "Drive already mounted at /content/drive; to attempt to forcibly remount, call drive.mount(\"/content/drive\", force_remount=True).\n"
          ]
        }
      ],
      "source": [
        "from google.colab import drive\n",
        "drive.mount('/content/drive')"
      ]
    },
    {
      "cell_type": "markdown",
      "metadata": {
        "id": "RXR7RN7p7SYD"
      },
      "source": [
        "## NLP final project\n",
        "Team members\n",
        "- Yingdi Su\n",
        "- Kuzhalogi Murthy\n",
        "\n",
        "In this project, we implement and compare three popular models for sentiment analysis: a Fully Connected Neural Network (FCNN), a Recurrent Neural Network (RNN) with LSTM, and the state-of-the-art BERT transformer. We analyze their performance on a labeled emotion dataset."
      ]
    },
    {
      "cell_type": "code",
      "execution_count": 2,
      "metadata": {
        "colab": {
          "base_uri": "https://localhost:8080/"
        },
        "id": "ayyIaH4656Ov",
        "outputId": "c974b1ae-8399-43fd-f026-c0d3e0979f40"
      },
      "outputs": [
        {
          "name": "stdout",
          "output_type": "stream",
          "text": [
            "Training Data:\n",
            "                                                text    label\n",
            "0                            i didnt feel humiliated  sadness\n",
            "1  i can go from feeling so hopeless to so damned...  sadness\n",
            "2   im grabbing a minute to post i feel greedy wrong    anger\n",
            "3  i am ever feeling nostalgic about the fireplac...     love\n",
            "4                               i am feeling grouchy    anger\n",
            "\n",
            "Test Data:\n",
            "                                                text    label\n",
            "0  im feeling rather rotten so im not very ambiti...  sadness\n",
            "1          im updating my blog because i feel shitty  sadness\n",
            "2  i never make her separate from me because i do...  sadness\n",
            "3  i left with my bouquet of red and yellow tulip...      joy\n",
            "4    i was feeling a little vain when i did this one  sadness\n"
          ]
        }
      ],
      "source": [
        "import pandas as pd\n",
        "\n",
        "train_data = pd.read_csv('/content/drive/MyDrive/ColabNotebooks/NLP_project/NLP_exam_emotions_dataset/train.txt', sep=';', names=['text', 'label'])\n",
        "test_data = pd.read_csv('/content/drive/MyDrive/ColabNotebooks/NLP_project/NLP_exam_emotions_dataset/test.txt', sep=';', names=['text', 'label'])\n",
        "\n",
        "print(\"Training Data:\")\n",
        "print(train_data.head())\n",
        "\n",
        "print(\"\\nTest Data:\")\n",
        "print(test_data.head())\n"
      ]
    },
    {
      "cell_type": "markdown",
      "metadata": {
        "id": "u2CigI6v822p"
      },
      "source": [
        "### Checking missing values"
      ]
    },
    {
      "cell_type": "code",
      "execution_count": 3,
      "metadata": {
        "colab": {
          "base_uri": "https://localhost:8080/"
        },
        "id": "hh80uG8_8y_a",
        "outputId": "dfc92685-8e94-452f-e619-a9fc5a47d770"
      },
      "outputs": [
        {
          "name": "stdout",
          "output_type": "stream",
          "text": [
            "Missing values in training data:\n",
            " text     0\n",
            "label    0\n",
            "dtype: int64\n",
            "\n",
            "Missing values in test data:\n",
            " text     0\n",
            "label    0\n",
            "dtype: int64\n",
            "\n",
            "Training data label distribution:\n",
            " label\n",
            "joy         5362\n",
            "sadness     4666\n",
            "anger       2159\n",
            "fear        1937\n",
            "love        1304\n",
            "surprise     572\n",
            "Name: count, dtype: int64\n",
            "\n",
            "Test data label distribution:\n",
            " label\n",
            "joy         695\n",
            "sadness     581\n",
            "anger       275\n",
            "fear        224\n",
            "love        159\n",
            "surprise     66\n",
            "Name: count, dtype: int64\n"
          ]
        }
      ],
      "source": [
        "print(\"Missing values in training data:\\n\", train_data.isnull().sum())\n",
        "print(\"\\nMissing values in test data:\\n\", test_data.isnull().sum())\n",
        "\n",
        "print(\"\\nTraining data label distribution:\\n\", train_data['label'].value_counts())\n",
        "print(\"\\nTest data label distribution:\\n\", test_data['label'].value_counts())\n"
      ]
    },
    {
      "cell_type": "markdown",
      "metadata": {
        "id": "RwJQzugx87cN"
      },
      "source": [
        "### Data preprocessing"
      ]
    },
    {
      "cell_type": "code",
      "execution_count": 4,
      "metadata": {
        "colab": {
          "base_uri": "https://localhost:8080/"
        },
        "id": "ZHZHlJ2-87EL",
        "outputId": "420d73b0-3776-419a-a066-49fc3115fe6d"
      },
      "outputs": [
        {
          "name": "stderr",
          "output_type": "stream",
          "text": [
            "[nltk_data] Downloading package stopwords to /root/nltk_data...\n",
            "[nltk_data]   Package stopwords is already up-to-date!\n"
          ]
        }
      ],
      "source": [
        "import re\n",
        "import nltk\n",
        "from nltk.corpus import stopwords\n",
        "from tensorflow.keras.preprocessing.text import Tokenizer\n",
        "from tensorflow.keras.preprocessing.sequence import pad_sequences\n",
        "\n",
        "nltk.download('stopwords')\n",
        "stop_words = set(stopwords.words('english'))\n",
        "\n",
        "# Text cleaning function\n",
        "def clean_text(text):\n",
        "    text = re.sub(r\"[^a-zA-Z\\s]\", \"\", text)\n",
        "    text = text.lower().strip()\n",
        "    text = \" \".join([word for word in text.split() if word not in stop_words])\n",
        "    return text\n",
        "\n",
        "# Apply text cleaning\n",
        "train_data['cleaned_text'] = train_data['text'].apply(clean_text)\n",
        "test_data['cleaned_text'] = test_data['text'].apply(clean_text)\n",
        "\n",
        "# Tokenization and padding\n",
        "tokenizer = Tokenizer()\n",
        "tokenizer.fit_on_texts(train_data['cleaned_text'])\n",
        "vocab_size = len(tokenizer.word_index) + 1\n",
        "\n",
        "max_length = 100\n",
        "train_sequences = tokenizer.texts_to_sequences(train_data['cleaned_text'])\n",
        "train_padded = pad_sequences(train_sequences, maxlen=max_length, padding='post')\n",
        "\n",
        "test_sequences = tokenizer.texts_to_sequences(test_data['cleaned_text'])\n",
        "test_padded = pad_sequences(test_sequences, maxlen=max_length, padding='post')\n",
        "\n",
        "# Converts labels to integers\n",
        "label_mapping = {label: idx for idx, label in enumerate(train_data['label'].unique())}\n",
        "train_labels = train_data['label'].map(label_mapping).values\n",
        "test_labels = test_data['label'].map(label_mapping).values\n"
      ]
    },
    {
      "cell_type": "markdown",
      "metadata": {
        "id": "Ks5bd7SD9SKU"
      },
      "source": [
        "### Model Training\n",
        "Now, we can proceed with training the models. We'll start with a Fully Connected Neural Network (FCNN).\n",
        "\n",
        "1. Fully Connected Neural Network (FCNN)"
      ]
    },
    {
      "cell_type": "code",
      "execution_count": 5,
      "metadata": {
        "colab": {
          "base_uri": "https://localhost:8080/"
        },
        "id": "GbBMPZiO86OC",
        "outputId": "602fcc75-6dde-4d80-9256-1660921b8552"
      },
      "outputs": [
        {
          "name": "stderr",
          "output_type": "stream",
          "text": [
            "/usr/local/lib/python3.11/dist-packages/keras/src/layers/core/embedding.py:90: UserWarning: Argument `input_length` is deprecated. Just remove it.\n",
            "  warnings.warn(\n"
          ]
        },
        {
          "name": "stdout",
          "output_type": "stream",
          "text": [
            "Epoch 1/10\n",
            "400/400 - 7s - 17ms/step - accuracy: 0.3718 - loss: 1.5052 - val_accuracy: 0.5650 - val_loss: 1.0938\n",
            "Epoch 2/10\n",
            "400/400 - 3s - 6ms/step - accuracy: 0.7552 - loss: 0.6984 - val_accuracy: 0.8628 - val_loss: 0.4633\n",
            "Epoch 3/10\n",
            "400/400 - 3s - 7ms/step - accuracy: 0.9397 - loss: 0.2179 - val_accuracy: 0.8772 - val_loss: 0.3970\n",
            "Epoch 4/10\n",
            "400/400 - 5s - 12ms/step - accuracy: 0.9731 - loss: 0.0978 - val_accuracy: 0.8703 - val_loss: 0.4355\n",
            "Epoch 5/10\n",
            "400/400 - 2s - 6ms/step - accuracy: 0.9852 - loss: 0.0598 - val_accuracy: 0.8747 - val_loss: 0.4493\n",
            "Epoch 6/10\n",
            "400/400 - 4s - 9ms/step - accuracy: 0.9880 - loss: 0.0460 - val_accuracy: 0.8759 - val_loss: 0.5022\n",
            "Epoch 7/10\n",
            "400/400 - 3s - 7ms/step - accuracy: 0.9908 - loss: 0.0348 - val_accuracy: 0.8753 - val_loss: 0.5225\n",
            "Epoch 8/10\n",
            "400/400 - 1s - 3ms/step - accuracy: 0.9930 - loss: 0.0252 - val_accuracy: 0.8731 - val_loss: 0.5793\n",
            "Epoch 9/10\n",
            "400/400 - 2s - 4ms/step - accuracy: 0.9938 - loss: 0.0214 - val_accuracy: 0.8728 - val_loss: 0.5799\n",
            "Epoch 10/10\n",
            "400/400 - 1s - 3ms/step - accuracy: 0.9948 - loss: 0.0210 - val_accuracy: 0.8687 - val_loss: 0.6399\n",
            "63/63 - 1s - 11ms/step - accuracy: 0.8530 - loss: 0.6971\n",
            "FCNN Test Accuracy: 85.30%\n"
          ]
        }
      ],
      "source": [
        "import numpy as np\n",
        "from tensorflow.keras.models import Sequential\n",
        "from tensorflow.keras.layers import Embedding, Flatten, Dense, Dropout\n",
        "\n",
        "embedding_dim = 100\n",
        "\n",
        "# FCNN model\n",
        "model_fcnn = Sequential()\n",
        "model_fcnn.add(Embedding(input_dim=vocab_size, output_dim=embedding_dim, input_length=max_length))\n",
        "model_fcnn.add(Flatten())\n",
        "model_fcnn.add(Dense(64, activation='relu'))\n",
        "model_fcnn.add(Dropout(0.5))\n",
        "model_fcnn.add(Dense(len(label_mapping), activation='softmax'))\n",
        "\n",
        "# Compile\n",
        "model_fcnn.compile(optimizer='adam', loss='sparse_categorical_crossentropy', metrics=['accuracy'])\n",
        "\n",
        "# Train\n",
        "history_fcnn = model_fcnn.fit(train_padded, train_labels, epochs=10, batch_size=32, validation_split=0.2, verbose=2)\n",
        "\n",
        "# Evaluate\n",
        "loss, accuracy = model_fcnn.evaluate(test_padded, test_labels, verbose=2)\n",
        "print(f\"FCNN Test Accuracy: {accuracy * 100:.2f}%\")\n"
      ]
    },
    {
      "cell_type": "markdown",
      "metadata": {
        "id": "verHzWev9aT_"
      },
      "source": [
        "2. Recurrent Neural Network (RNN) with LSTM"
      ]
    },
    {
      "cell_type": "code",
      "execution_count": 6,
      "metadata": {
        "colab": {
          "base_uri": "https://localhost:8080/"
        },
        "id": "Imku5QQkUSR-",
        "outputId": "b6e791d1-8691-49f1-d519-b573a0f5b17a"
      },
      "outputs": [
        {
          "name": "stdout",
          "output_type": "stream",
          "text": [
            "Epoch 1/10\n",
            "400/400 - 18s - 45ms/step - accuracy: 0.4985 - loss: 1.2889 - val_accuracy: 0.7297 - val_loss: 0.7192\n",
            "Epoch 2/10\n",
            "400/400 - 17s - 41ms/step - accuracy: 0.8078 - loss: 0.5446 - val_accuracy: 0.8844 - val_loss: 0.3659\n",
            "Epoch 3/10\n",
            "400/400 - 12s - 30ms/step - accuracy: 0.9160 - loss: 0.2667 - val_accuracy: 0.9097 - val_loss: 0.2708\n",
            "Epoch 4/10\n",
            "400/400 - 17s - 42ms/step - accuracy: 0.9374 - loss: 0.2024 - val_accuracy: 0.9169 - val_loss: 0.2847\n",
            "Epoch 5/10\n",
            "400/400 - 9s - 23ms/step - accuracy: 0.9584 - loss: 0.1318 - val_accuracy: 0.9219 - val_loss: 0.3117\n",
            "Epoch 6/10\n",
            "400/400 - 10s - 24ms/step - accuracy: 0.9665 - loss: 0.1084 - val_accuracy: 0.9156 - val_loss: 0.3171\n",
            "Epoch 7/10\n",
            "400/400 - 10s - 26ms/step - accuracy: 0.9727 - loss: 0.0883 - val_accuracy: 0.9209 - val_loss: 0.3162\n",
            "Epoch 8/10\n",
            "400/400 - 10s - 26ms/step - accuracy: 0.9786 - loss: 0.0672 - val_accuracy: 0.9156 - val_loss: 0.3326\n",
            "Epoch 9/10\n",
            "400/400 - 11s - 27ms/step - accuracy: 0.9837 - loss: 0.0570 - val_accuracy: 0.9194 - val_loss: 0.3317\n",
            "Epoch 10/10\n",
            "400/400 - 10s - 24ms/step - accuracy: 0.9848 - loss: 0.0510 - val_accuracy: 0.9150 - val_loss: 0.4291\n",
            "63/63 - 1s - 18ms/step - accuracy: 0.9160 - loss: 0.3987\n",
            "RNN Model Test Accuracy: 91.60%\n"
          ]
        }
      ],
      "source": [
        "import numpy as np\n",
        "from tensorflow.keras.models import Sequential\n",
        "from tensorflow.keras.layers import Embedding, LSTM, Dense, Dropout, Bidirectional\n",
        "from tensorflow.keras.preprocessing.text import Tokenizer\n",
        "from tensorflow.keras.preprocessing.sequence import pad_sequences\n",
        "from tensorflow.keras.optimizers import Adam\n",
        "\n",
        "# Hyperparameters\n",
        "embedding_dim = 128\n",
        "lstm_units = 128\n",
        "dropout_rate = 0.5\n",
        "learning_rate = 1e-3\n",
        "batch_size = 32\n",
        "epochs = 10\n",
        "max_length = 100  # Ensure this matches the max_length used in your tokenization\n",
        "\n",
        "# Tokenize and pad sequences\n",
        "tokenizer = Tokenizer()\n",
        "tokenizer.fit_on_texts(train_data['text'])\n",
        "vocab_size = len(tokenizer.word_index) + 1\n",
        "\n",
        "train_sequences = tokenizer.texts_to_sequences(train_data['text'])\n",
        "train_padded = pad_sequences(train_sequences, maxlen=max_length, padding='post')\n",
        "\n",
        "test_sequences = tokenizer.texts_to_sequences(test_data['text'])\n",
        "test_padded = pad_sequences(test_sequences, maxlen=max_length, padding='post')\n",
        "\n",
        "# Model architecture\n",
        "model_rnn = Sequential([\n",
        "    Embedding(input_dim=vocab_size, output_dim=embedding_dim, input_length=max_length),\n",
        "    Bidirectional(LSTM(lstm_units, return_sequences=True)),\n",
        "    Dropout(dropout_rate),\n",
        "    Bidirectional(LSTM(lstm_units)),\n",
        "    Dropout(dropout_rate),\n",
        "    Dense(64, activation='relu'),\n",
        "    Dropout(dropout_rate),\n",
        "    Dense(len(label_mapping), activation='softmax')\n",
        "])\n",
        "\n",
        "# Compile model\n",
        "optimizer = Adam(learning_rate=learning_rate)\n",
        "model_rnn.compile(optimizer=optimizer, loss='sparse_categorical_crossentropy', metrics=['accuracy'])\n",
        "\n",
        "# Convert labels to integers\n",
        "train_labels = train_data['label'].map(label_mapping).values\n",
        "test_labels = test_data['label'].map(label_mapping).values\n",
        "\n",
        "# Train model\n",
        "history_rnn = model_rnn.fit(train_padded, train_labels, epochs=epochs, batch_size=batch_size,\n",
        "                            validation_split=0.2, verbose=2)\n",
        "\n",
        "# Evaluate model\n",
        "loss, accuracy = model_rnn.evaluate(test_padded, test_labels, verbose=2)\n",
        "print(f\"RNN Model Test Accuracy: {accuracy * 100:.2f}%\")\n"
      ]
    },
    {
      "cell_type": "markdown",
      "metadata": {
        "id": "mzurAmpZ9gnm"
      },
      "source": [
        "3. Transformer-Based Model.\n",
        "- Fine-tune a pre-trained Transformer model using HuggingFace's transformers library"
      ]
    },
    {
      "cell_type": "code",
      "execution_count": 8,
      "metadata": {
        "colab": {
          "base_uri": "https://localhost:8080/",
          "height": 752,
          "referenced_widgets": [
            "1050f1807179460fabea93f7cb02e0f0",
            "aae1f2854fa84544b80b2d61d3f71910",
            "f7831494de504c63bb222e4e49bfc57c",
            "35402973a9d04fbcbe0c00e7564447cd",
            "4bf00a056b7e4157824a4b5baf1ad4fe",
            "e45f7a7fef85475b911cd68c9bf1581f",
            "31eb267161d34f3a8e4f8b0f6a1613e6",
            "31821ba752834f8e8237fcd952a16397",
            "255d0f84b0f242afb023734c4f661cc1",
            "3edb730d3a7743d2b42d2fb444566aa2",
            "ab675c508d53487e99c4f198229b3d0d",
            "809dc6b6bbe44af49ac3786076f220f1",
            "2a743433a8eb4e03b761264b40ce3588",
            "da8cf81e851b49f7acc0acf946209338",
            "7d5a22a3e2104a1ba7b1a3583907418d",
            "84bd6ca2cbd7451ea0366f4ecd9f1dd8",
            "28b6558220bb442494869c83ae4bd079",
            "9ae66f83f0fe49ac85edc97d963ed93f",
            "585f7d4efe8844b3895f856a070741c1",
            "1bd1bd8dc2754b729d0145b6a35d12fb",
            "127246245d2f4185adc96812c8e5b82d",
            "d71de5822e4e4835a2fbecf343264faf",
            "959869b025144b2c86fde6fa515abff3",
            "47abdd8b9c4c46498fc2835a8da57b60",
            "874c263f4ffd4ada8086cfaad50c52ce",
            "dd776ddb74c54220ad51519ebab01669",
            "1f662ecb761a498489f80880a8efcbe7",
            "f269be7280804cfea420d68914d2e126",
            "dd5d9cba8ffb4b0381b41848a79db205",
            "2fcfc5b74c114382bb264529dab75beb",
            "ece93669a5b94a4a8032addca0fedf6f",
            "ea8b3f0d4d8d4f01acaaf6d9aaf9d8c7",
            "7a04e2e9bfdb48e1b4a990ede2153a25",
            "f9eaae60482b498d9bbd821090979569",
            "4eb72aedd3cb4067a6b45f716099b51d",
            "6452617505b840a388811fd385f34517",
            "ed1d48a206394427a5d27299f82b5553",
            "3fe1141f37ef4903809aa3e5d3afc202",
            "824ade42ab514e3b916f665f58897813",
            "f5536592cbb04b2aab36c1d7ac537f74",
            "4bfce418208f47a1824ccbbf01fcc5be",
            "03656e1103cc460bb07580bac6903564",
            "7140b48ffd37400ca61c58628c5728ee",
            "65f3ff951e10485ca269f399be33babf",
            "9070832e254d4a2e8f6e5ca0f35b828c",
            "093bb73b55a54618aee9e554363f0c33",
            "021c1391dc6747df84b002bacf1328cd",
            "4a3fd01587f944ba8c6185aa25716a22",
            "8b12170db5fd4e189b6c12fe07904aa7",
            "f57deb59ff504f97970e2635d06e1735",
            "31372e368bb348dc9629c01c912012ea",
            "777b6b5c63d34da48988d84ed3832bb1",
            "ff766ad4bc454d7db95b7d96c2d5bbd9",
            "633d87c6cf484b7e8ad9ad7bc890b1c2",
            "6c600428869742ec8cde11c5188b83f3"
          ]
        },
        "id": "eSN9WoqEKgdb",
        "outputId": "c74c818b-98db-4207-fdc2-fdc79c8ffcd7"
      },
      "outputs": [
        {
          "name": "stderr",
          "output_type": "stream",
          "text": [
            "/usr/local/lib/python3.11/dist-packages/huggingface_hub/utils/_auth.py:94: UserWarning: \n",
            "The secret `HF_TOKEN` does not exist in your Colab secrets.\n",
            "To authenticate with the Hugging Face Hub, create a token in your settings tab (https://huggingface.co/settings/tokens), set it as secret in your Google Colab and restart your session.\n",
            "You will be able to reuse this secret in all of your notebooks.\n",
            "Please note that authentication is recommended but still optional to access public models or datasets.\n",
            "  warnings.warn(\n"
          ]
        },
        {
          "data": {
            "application/vnd.jupyter.widget-view+json": {
              "model_id": "1050f1807179460fabea93f7cb02e0f0",
              "version_major": 2,
              "version_minor": 0
            },
            "text/plain": [
              "tokenizer_config.json:   0%|          | 0.00/48.0 [00:00<?, ?B/s]"
            ]
          },
          "metadata": {},
          "output_type": "display_data"
        },
        {
          "data": {
            "application/vnd.jupyter.widget-view+json": {
              "model_id": "809dc6b6bbe44af49ac3786076f220f1",
              "version_major": 2,
              "version_minor": 0
            },
            "text/plain": [
              "config.json:   0%|          | 0.00/570 [00:00<?, ?B/s]"
            ]
          },
          "metadata": {},
          "output_type": "display_data"
        },
        {
          "data": {
            "application/vnd.jupyter.widget-view+json": {
              "model_id": "959869b025144b2c86fde6fa515abff3",
              "version_major": 2,
              "version_minor": 0
            },
            "text/plain": [
              "vocab.txt:   0%|          | 0.00/232k [00:00<?, ?B/s]"
            ]
          },
          "metadata": {},
          "output_type": "display_data"
        },
        {
          "data": {
            "application/vnd.jupyter.widget-view+json": {
              "model_id": "f9eaae60482b498d9bbd821090979569",
              "version_major": 2,
              "version_minor": 0
            },
            "text/plain": [
              "tokenizer.json:   0%|          | 0.00/466k [00:00<?, ?B/s]"
            ]
          },
          "metadata": {},
          "output_type": "display_data"
        },
        {
          "data": {
            "application/vnd.jupyter.widget-view+json": {
              "model_id": "9070832e254d4a2e8f6e5ca0f35b828c",
              "version_major": 2,
              "version_minor": 0
            },
            "text/plain": [
              "model.safetensors:   0%|          | 0.00/440M [00:00<?, ?B/s]"
            ]
          },
          "metadata": {},
          "output_type": "display_data"
        },
        {
          "name": "stderr",
          "output_type": "stream",
          "text": [
            "All PyTorch model weights were used when initializing TFBertForSequenceClassification.\n",
            "\n",
            "Some weights or buffers of the TF 2.0 model TFBertForSequenceClassification were not initialized from the PyTorch model and are newly initialized: ['classifier.weight', 'classifier.bias']\n",
            "You should probably TRAIN this model on a down-stream task to be able to use it for predictions and inference.\n"
          ]
        },
        {
          "name": "stdout",
          "output_type": "stream",
          "text": [
            "Epoch 1/10\n",
            "500/500 [==============================] - 359s 615ms/step - loss: 0.7853 - accuracy: 0.6946 - val_loss: 0.2008 - val_accuracy: 0.9280\n",
            "Epoch 2/10\n",
            "500/500 [==============================] - 302s 603ms/step - loss: 0.1411 - accuracy: 0.9388 - val_loss: 0.1343 - val_accuracy: 0.9295\n",
            "Epoch 3/10\n",
            "500/500 [==============================] - 303s 606ms/step - loss: 0.1065 - accuracy: 0.9474 - val_loss: 0.1203 - val_accuracy: 0.9400\n",
            "Epoch 4/10\n",
            "500/500 [==============================] - 302s 604ms/step - loss: 0.0882 - accuracy: 0.9520 - val_loss: 0.1613 - val_accuracy: 0.9180\n",
            "Epoch 5/10\n",
            "500/500 [==============================] - 301s 603ms/step - loss: 0.0827 - accuracy: 0.9578 - val_loss: 0.1349 - val_accuracy: 0.9335\n",
            "Epoch 6/10\n",
            "500/500 [==============================] - 301s 603ms/step - loss: 0.0744 - accuracy: 0.9617 - val_loss: 0.1497 - val_accuracy: 0.9325\n",
            "Epoch 7/10\n",
            "500/500 [==============================] - 303s 606ms/step - loss: 0.0601 - accuracy: 0.9719 - val_loss: 0.1619 - val_accuracy: 0.9320\n",
            "Epoch 8/10\n",
            "500/500 [==============================] - 300s 600ms/step - loss: 0.0477 - accuracy: 0.9797 - val_loss: 0.1890 - val_accuracy: 0.9290\n",
            "Epoch 9/10\n",
            "500/500 [==============================] - 302s 605ms/step - loss: 0.0354 - accuracy: 0.9852 - val_loss: 0.2257 - val_accuracy: 0.9275\n",
            "Epoch 10/10\n",
            "500/500 [==============================] - 301s 602ms/step - loss: 0.0281 - accuracy: 0.9893 - val_loss: 0.2228 - val_accuracy: 0.9325\n",
            "63/63 [==============================] - 9s 148ms/step - loss: 0.2228 - accuracy: 0.9325\n",
            "Transformer Model Test Accuracy: 0.9325\n"
          ]
        }
      ],
      "source": [
        "import tensorflow as tf\n",
        "from transformers import AutoTokenizer, TFAutoModelForSequenceClassification, create_optimizer\n",
        "\n",
        "# Model & Tokenizer\n",
        "model_name = \"bert-base-uncased\"\n",
        "tokenizer = AutoTokenizer.from_pretrained(model_name)\n",
        "transformer_model = TFAutoModelForSequenceClassification.from_pretrained(model_name, num_labels=len(label_mapping))\n",
        "\n",
        "# Encoding Function\n",
        "def encode_texts(texts, tokenizer, max_length):\n",
        "    return tokenizer(texts, padding=True, truncation=True, return_tensors='tf', max_length=max_length)\n",
        "\n",
        "# Encoding Data\n",
        "train_encodings = encode_texts(train_data['text'].tolist(), tokenizer, max_length=max_length)\n",
        "test_encodings = encode_texts(test_data['text'].tolist(), tokenizer, max_length=max_length)\n",
        "\n",
        "\n",
        "# Convert Labels to Tensors\n",
        "y_train_tensor = tf.constant(train_labels)\n",
        "\n",
        "y_test_tensor = tf.constant(test_labels)\n",
        "\n",
        "# Optimizer\n",
        "num_train_steps = len(train_encodings['input_ids']) // 16 * 10\n",
        "optimizer, lr_schedule = create_optimizer(init_lr=5e-5, num_train_steps=num_train_steps, num_warmup_steps=0)\n",
        "\n",
        "# Compile\n",
        "transformer_model.compile(optimizer=optimizer,\n",
        "                          loss=tf.keras.losses.SparseCategoricalCrossentropy(from_logits=True),\n",
        "                          metrics=['accuracy'])\n",
        "\n",
        "# Train\n",
        "history = transformer_model.fit(train_encodings['input_ids'], y_train_tensor, epochs=10, batch_size=32,\n",
        "                                validation_data=(test_encodings['input_ids'], y_test_tensor))\n",
        "\n",
        "# Evaluate\n",
        "loss, accuracy = transformer_model.evaluate(test_encodings['input_ids'], y_test_tensor)\n",
        "print(f\"Transformer Model Test Accuracy: {accuracy:.4f}\")\n"
      ]
    },
    {
      "cell_type": "markdown",
      "metadata": {
        "id": "L2TvEZoK90h9"
      },
      "source": [
        "### Model Comparison and Analysis\n",
        "We compared the performance of the models based on accuracy and other relevant metrics."
      ]
    },
    {
      "cell_type": "code",
      "execution_count": 11,
      "metadata": {
        "colab": {
          "base_uri": "https://localhost:8080/",
          "height": 1000
        },
        "id": "_jvev6BMlfQL",
        "outputId": "4f6b8f3c-b436-4139-a1c5-2ac096eb3392"
      },
      "outputs": [
        {
          "data": {
            "image/png": "[encoded data removed]",
            "text/plain": [
              "<Figure size 1200x600 with 1 Axes>"
            ]
          },
          "metadata": {},
          "output_type": "display_data"
        },
        {
          "data": {
            "image/png": "[encoded data removed]",
            "text/plain": [
              "<Figure size 1200x600 with 1 Axes>"
            ]
          },
          "metadata": {},
          "output_type": "display_data"
        },
        {
          "data": {
            "image/png": "[encoded data removed]",
            "text/plain": [
              "<Figure size 1200x600 with 1 Axes>"
            ]
          },
          "metadata": {},
          "output_type": "display_data"
        }
      ],
      "source": [
        "# Plot for FCNN\n",
        "plt.figure(figsize=(12, 6))\n",
        "plt.plot(history_fcnn.history['accuracy'], label='FCNN Train')\n",
        "plt.plot(history_fcnn.history['val_accuracy'], label='FCNN Val')\n",
        "plt.title('FCNN Model Accuracy')\n",
        "plt.xlabel('Epochs')\n",
        "plt.ylabel('Accuracy')\n",
        "plt.legend()\n",
        "plt.show()\n",
        "\n",
        "# Plot for RNN\n",
        "plt.figure(figsize=(12, 6))\n",
        "plt.plot(history_rnn.history['accuracy'], label='RNN Train')\n",
        "plt.plot(history_rnn.history['val_accuracy'], label='RNN Val')\n",
        "plt.title('RNN Model Accuracy')\n",
        "plt.xlabel('Epochs')\n",
        "plt.ylabel('Accuracy')\n",
        "plt.legend()\n",
        "plt.show()\n",
        "\n",
        "# Plot for Transformer\n",
        "plt.figure(figsize=(12, 6))\n",
        "plt.plot(history.history['accuracy'], label='Transformer Train')\n",
        "plt.plot(history.history['val_accuracy'], label='Transformer Val')\n",
        "plt.title('Transformer Model Accuracy')\n",
        "plt.xlabel('Epochs')\n",
        "plt.ylabel('Accuracy')\n",
        "plt.legend()\n",
        "plt.show()"
      ]
    },
    {
      "cell_type": "markdown",
      "metadata": {
        "id": "DD3IDmIn-SQK"
      },
      "source": [
        "### Validation and Final Performance Check"
      ]
    },
    {
      "cell_type": "code",
      "execution_count": 17,
      "metadata": {
        "id": "s1jIVoqy4eeL"
      },
      "outputs": [],
      "source": [
        "from transformers import BertTokenizerFast, TFBertForSequenceClassification\n",
        "from sklearn.metrics import classification_report, confusion_matrix\n",
        "import seaborn as sns\n",
        "import matplotlib.pyplot as plt\n",
        "from tensorflow.keras.preprocessing.text import Tokenizer\n",
        "from tensorflow.keras.preprocessing.sequence import pad_sequences\n",
        "import tensorflow as tf"
      ]
    },
    {
      "cell_type": "code",
      "execution_count": 18,
      "metadata": {
        "id": "ko7W33A23Kbf"
      },
      "outputs": [],
      "source": [
        "# Load validation data\n",
        "validation_data = pd.read_csv('/content/drive/MyDrive/ColabNotebooks/NLP_project/NLP_exam_emotions_dataset/validation.txt', sep=';', names=['text', 'label'])"
      ]
    },
    {
      "cell_type": "code",
      "execution_count": 19,
      "metadata": {
        "id": "U3_fhIrG4lWS"
      },
      "outputs": [],
      "source": [
        "# Preprocess validation data using BERT tokenizer\n",
        "tokenizer = BertTokenizerFast.from_pretrained('bert-base-uncased')\n",
        "validation_encodings = tokenizer(validation_data['text'].tolist(), truncation=True, padding=True, max_length=100)\n",
        "\n",
        "# Convert validation labels to integers\n",
        "validation_labels = validation_data['label'].map(label_mapping).values\n",
        "\n",
        "# Create TensorFlow dataset\n",
        "validation_dataset = tf.data.Dataset.from_tensor_slices((\n",
        "    dict(validation_encodings),\n",
        "    validation_labels\n",
        ")).batch(32)\n"
      ]
    },
    {
      "cell_type": "code",
      "execution_count": 20,
      "metadata": {
        "id": "i4TWCDmw-uJm"
      },
      "outputs": [],
      "source": [
        "# Define Keras Tokenizer for FCNN and RNN\n",
        "keras_tokenizer = Tokenizer()\n",
        "keras_tokenizer.fit_on_texts(train_data['cleaned_text'])\n",
        "\n",
        "# Preprocess validation data for FCNN and RNN models\n",
        "validation_data['cleaned_text'] = validation_data['text'].apply(clean_text)\n",
        "validation_sequences = keras_tokenizer.texts_to_sequences(validation_data['cleaned_text'])\n",
        "validation_padded = pad_sequences(validation_sequences, maxlen=max_length, padding='post')\n",
        "validation_labels = validation_data['label'].map(label_mapping).values\n",
        "\n",
        "# Define BERT Tokenizer for BERT model\n",
        "bert_tokenizer = BertTokenizerFast.from_pretrained('bert-base-uncased')\n",
        "\n",
        "def bert_tokenize(texts, max_len=100):\n",
        "    return bert_tokenizer(texts.tolist(), padding='max_length', truncation=True, max_length=max_len, return_tensors='tf')\n",
        "\n",
        "# Preprocess validation data for BERT model\n",
        "validation_tokens_bert = bert_tokenize(validation_data['text'])\n",
        "X_val_bert = validation_tokens_bert['input_ids']\n",
        "attention_mask_val_bert = validation_tokens_bert['attention_mask']\n",
        "y_val_bert = validation_data['label'].map(label_mapping).values\n"
      ]
    },
    {
      "cell_type": "code",
      "execution_count": 21,
      "metadata": {
        "colab": {
          "base_uri": "https://localhost:8080/",
          "height": 1000
        },
        "id": "Am9m9U5a-z-b",
        "outputId": "86e06bd0-85d3-4086-e200-e2e1e7c7caac"
      },
      "outputs": [
        {
          "name": "stdout",
          "output_type": "stream",
          "text": [
            "63/63 - 0s - 3ms/step - accuracy: 0.8700 - loss: 0.6195\n",
            "FCNN Validation Accuracy: 87.00%\n",
            "\u001b[1m63/63\u001b[0m \u001b[32m━━━━━━━━━━━━━━━━━━━━\u001b[0m\u001b[37m\u001b[0m \u001b[1m0s\u001b[0m 4ms/step\n",
            "FCNN Validation Classification Report:\n",
            "              precision    recall  f1-score   support\n",
            "\n",
            "     sadness       0.91      0.91      0.91       550\n",
            "       anger       0.87      0.83      0.85       275\n",
            "        love       0.85      0.68      0.75       178\n",
            "    surprise       0.83      0.74      0.78        81\n",
            "        fear       0.82      0.81      0.82       212\n",
            "         joy       0.86      0.94      0.90       704\n",
            "\n",
            "    accuracy                           0.87      2000\n",
            "   macro avg       0.86      0.82      0.84      2000\n",
            "weighted avg       0.87      0.87      0.87      2000\n",
            "\n"
          ]
        },
        {
          "data": {
            "image/png": "[encoded data removed]",
            "text/plain": [
              "<Figure size 1000x800 with 2 Axes>"
            ]
          },
          "metadata": {},
          "output_type": "display_data"
        }
      ],
      "source": [
        "# Evaluate FCNN on validation data\n",
        "validation_loss_fcnn, validation_accuracy_fcnn = model_fcnn.evaluate(validation_padded, validation_labels, verbose=2)\n",
        "print(f\"FCNN Validation Accuracy: {validation_accuracy_fcnn * 100:.2f}%\")\n",
        "\n",
        "# Predictions on validation data\n",
        "validation_predictions_fcnn = model_fcnn.predict(validation_padded)\n",
        "validation_predicted_labels_fcnn = np.argmax(validation_predictions_fcnn, axis=1)\n",
        "\n",
        "# Classification Report for validation data\n",
        "print(\"FCNN Validation Classification Report:\")\n",
        "print(classification_report(validation_labels, validation_predicted_labels_fcnn, target_names=label_mapping.keys()))\n",
        "\n",
        "# Confusion Matrix for validation data\n",
        "validation_conf_matrix_fcnn = confusion_matrix(validation_labels, validation_predicted_labels_fcnn)\n",
        "plt.figure(figsize=(10, 8))\n",
        "sns.heatmap(validation_conf_matrix_fcnn, annot=True, fmt='d', xticklabels=label_mapping.keys(), yticklabels=label_mapping.keys())\n",
        "plt.xlabel('Predicted')\n",
        "plt.ylabel('True')\n",
        "plt.title('FCNN Validation Confusion Matrix')\n",
        "plt.show()"
      ]
    },
    {
      "cell_type": "code",
      "execution_count": 22,
      "metadata": {
        "colab": {
          "base_uri": "https://localhost:8080/",
          "height": 1000
        },
        "id": "wHVjWz8f-5Ol",
        "outputId": "a171cb1a-b3f6-444e-e685-22f8a50bc2a2"
      },
      "outputs": [
        {
          "name": "stdout",
          "output_type": "stream",
          "text": [
            "63/63 - 1s - 11ms/step - accuracy: 0.2175 - loss: 6.7162\n",
            "RNN Validation Accuracy: 21.75%\n",
            "\u001b[1m63/63\u001b[0m \u001b[32m━━━━━━━━━━━━━━━━━━━━\u001b[0m\u001b[37m\u001b[0m \u001b[1m1s\u001b[0m 12ms/step\n",
            "RNN Validation Classification Report:\n",
            "              precision    recall  f1-score   support\n",
            "\n",
            "     sadness       0.22      0.17      0.19       550\n",
            "       anger       0.13      0.17      0.15       275\n",
            "        love       0.10      0.08      0.09       178\n",
            "    surprise       0.05      0.05      0.05        81\n",
            "        fear       0.09      0.09      0.09       212\n",
            "         joy       0.34      0.37      0.35       704\n",
            "\n",
            "    accuracy                           0.22      2000\n",
            "   macro avg       0.15      0.15      0.15      2000\n",
            "weighted avg       0.22      0.22      0.22      2000\n",
            "\n"
          ]
        },
        {
          "data": {
            "image/png": "[encoded data removed]",
            "text/plain": [
              "<Figure size 1000x800 with 2 Axes>"
            ]
          },
          "metadata": {},
          "output_type": "display_data"
        }
      ],
      "source": [
        "# Evaluate RNN on validation data\n",
        "validation_loss_rnn, validation_accuracy_rnn = model_rnn.evaluate(validation_padded, validation_labels, verbose=2)\n",
        "print(f\"RNN Validation Accuracy: {validation_accuracy_rnn * 100:.2f}%\")\n",
        "\n",
        "# Predictions on validation data\n",
        "validation_predictions_rnn = model_rnn.predict(validation_padded)\n",
        "validation_predicted_labels_rnn = np.argmax(validation_predictions_rnn, axis=1)\n",
        "\n",
        "# Classification Report for validation data\n",
        "print(\"RNN Validation Classification Report:\")\n",
        "print(classification_report(validation_labels, validation_predicted_labels_rnn, target_names=label_mapping.keys()))\n",
        "\n",
        "# Confusion Matrix for validation data\n",
        "validation_conf_matrix_rnn = confusion_matrix(validation_labels, validation_predicted_labels_rnn)\n",
        "plt.figure(figsize=(10, 8))\n",
        "sns.heatmap(validation_conf_matrix_rnn, annot=True, fmt='d', xticklabels=label_mapping.keys(), yticklabels=label_mapping.keys())\n",
        "plt.xlabel('Predicted')\n",
        "plt.ylabel('True')\n",
        "plt.title('RNN Validation Confusion Matrix')\n",
        "plt.show()"
      ]
    },
    {
      "cell_type": "code",
      "execution_count": 23,
      "metadata": {
        "colab": {
          "base_uri": "https://localhost:8080/",
          "height": 1000
        },
        "id": "jE0yPB6U_Brn",
        "outputId": "276928ea-aff5-4571-da33-264b8d91c260"
      },
      "outputs": [
        {
          "name": "stdout",
          "output_type": "stream",
          "text": [
            "63/63 [==============================] - 18s 233ms/step - loss: 0.1995 - accuracy: 0.9405\n",
            "BERT Validation Accuracy: 94.05%\n",
            "63/63 [==============================] - 18s 218ms/step\n",
            "BERT Validation Classification Report:\n",
            "              precision    recall  f1-score   support\n",
            "\n",
            "     sadness       0.97      0.97      0.97       550\n",
            "       anger       0.94      0.94      0.94       275\n",
            "        love       0.87      0.87      0.87       178\n",
            "    surprise       0.79      0.95      0.87        81\n",
            "        fear       0.93      0.91      0.92       212\n",
            "         joy       0.96      0.95      0.95       704\n",
            "\n",
            "    accuracy                           0.94      2000\n",
            "   macro avg       0.91      0.93      0.92      2000\n",
            "weighted avg       0.94      0.94      0.94      2000\n",
            "\n"
          ]
        },
        {
          "data": {
            "image/png": "[encoded data removed]",
            "text/plain": [
              "<Figure size 1000x800 with 2 Axes>"
            ]
          },
          "metadata": {},
          "output_type": "display_data"
        }
      ],
      "source": [
        "# Evaluate BERT on validation data\n",
        "validation_loss_bert, validation_accuracy_bert = transformer_model.evaluate(\n",
        "    {'input_ids': X_val_bert, 'attention_mask': attention_mask_val_bert},\n",
        "    y_val_bert\n",
        ")\n",
        "print(f\"BERT Validation Accuracy: {validation_accuracy_bert * 100:.2f}%\")\n",
        "\n",
        "# Predictions on validation data\n",
        "validation_predictions_bert = transformer_model.predict({'input_ids': X_val_bert, 'attention_mask': attention_mask_val_bert}).logits\n",
        "validation_predicted_labels_bert = np.argmax(validation_predictions_bert, axis=1)\n",
        "\n",
        "# Classification Report for validation data\n",
        "print(\"BERT Validation Classification Report:\")\n",
        "print(classification_report(y_val_bert, validation_predicted_labels_bert, target_names=label_mapping.keys()))\n",
        "\n",
        "# Confusion Matrix for validation data\n",
        "validation_conf_matrix_bert = confusion_matrix(y_val_bert, validation_predicted_labels_bert)\n",
        "plt.figure(figsize=(10, 8))\n",
        "sns.heatmap(validation_conf_matrix_bert, annot=True, fmt='d', xticklabels=label_mapping.keys(), yticklabels=label_mapping.keys())\n",
        "plt.xlabel('Predicted')\n",
        "plt.ylabel('True')\n",
        "plt.title('BERT Validation Confusion Matrix')\n",
        "plt.show()"
      ]
    },
    {
      "cell_type": "markdown",
      "metadata": {
        "id": "aBePSs02Ahw-"
      },
      "source": [
        "### Conclusion:\n",
        "\n",
        "According to the validation accuracy and the confusion matrix above, we can see that the accuracy score for FCNN is 87.0%, RNN is 21.75%, and BERT is the highest: 94.05%. Hence, BERT model is the best approach.\n",
        "\n",
        "However, the result of RNN is negative, we can see from the Confusion Matrix, the model only predicted the emotion \"joy\" successfully."
      ]
    }
  ],
  "metadata": {
    "accelerator": "GPU",
    "colab": {
      "gpuType": "T4",
      "machine_shape": "hm",
      "provenance": []
    },
    "kernelspec": {
      "display_name": "Python 3",
      "name": "python3"
    },
    "language_info": {
      "name": "python",
      "version": "3.12.0"
    },
    "widgets": {
      "application/vnd.jupyter.widget-state+json": {
        "021c1391dc6747df84b002bacf1328cd": {
          "model_module": "@jupyter-widgets/controls",
          "model_module_version": "1.5.0",
          "model_name": "FloatProgressModel",
          "state": {
            "_dom_classes": [],
            "_model_module": "@jupyter-widgets/controls",
            "_model_module_version": "1.5.0",
            "_model_name": "FloatProgressModel",
            "_view_count": null,
            "_view_module": "@jupyter-widgets/controls",
            "_view_module_version": "1.5.0",
            "_view_name": "ProgressView",
            "bar_style": "success",
            "description": "",
            "description_tooltip": null,
            "layout": "IPY_MODEL_777b6b5c63d34da48988d84ed3832bb1",
            "max": 440449768,
            "min": 0,
            "orientation": "horizontal",
            "style": "IPY_MODEL_ff766ad4bc454d7db95b7d96c2d5bbd9",
            "value": 440449768
          }
        },
        "03656e1103cc460bb07580bac6903564": {
          "model_module": "@jupyter-widgets/controls",
          "model_module_version": "1.5.0",
          "model_name": "ProgressStyleModel",
          "state": {
            "_model_module": "@jupyter-widgets/controls",
            "_model_module_version": "1.5.0",
            "_model_name": "ProgressStyleModel",
            "_view_count": null,
            "_view_module": "@jupyter-widgets/base",
            "_view_module_version": "1.2.0",
            "_view_name": "StyleView",
            "bar_color": null,
            "description_width": ""
          }
        },
        "093bb73b55a54618aee9e554363f0c33": {
          "model_module": "@jupyter-widgets/controls",
          "model_module_version": "1.5.0",
          "model_name": "HTMLModel",
          "state": {
            "_dom_classes": [],
            "_model_module": "@jupyter-widgets/controls",
            "_model_module_version": "1.5.0",
            "_model_name": "HTMLModel",
            "_view_count": null,
            "_view_module": "@jupyter-widgets/controls",
            "_view_module_version": "1.5.0",
            "_view_name": "HTMLView",
            "description": "",
            "description_tooltip": null,
            "layout": "IPY_MODEL_f57deb59ff504f97970e2635d06e1735",
            "placeholder": "​",
            "style": "IPY_MODEL_31372e368bb348dc9629c01c912012ea",
            "value": "model.safetensors: 100%"
          }
        },
        "1050f1807179460fabea93f7cb02e0f0": {
          "model_module": "@jupyter-widgets/controls",
          "model_module_version": "1.5.0",
          "model_name": "HBoxModel",
          "state": {
            "_dom_classes": [],
            "_model_module": "@jupyter-widgets/controls",
            "_model_module_version": "1.5.0",
            "_model_name": "HBoxModel",
            "_view_count": null,
            "_view_module": "@jupyter-widgets/controls",
            "_view_module_version": "1.5.0",
            "_view_name": "HBoxView",
            "box_style": "",
            "children": [
              "IPY_MODEL_aae1f2854fa84544b80b2d61d3f71910",
              "IPY_MODEL_f7831494de504c63bb222e4e49bfc57c",
              "IPY_MODEL_35402973a9d04fbcbe0c00e7564447cd"
            ],
            "layout": "IPY_MODEL_4bf00a056b7e4157824a4b5baf1ad4fe"
          }
        },
        "127246245d2f4185adc96812c8e5b82d": {
          "model_module": "@jupyter-widgets/base",
          "model_module_version": "1.2.0",
          "model_name": "LayoutModel",
          "state": {
            "_model_module": "@jupyter-widgets/base",
            "_model_module_version": "1.2.0",
            "_model_name": "LayoutModel",
            "_view_count": null,
            "_view_module": "@jupyter-widgets/base",
            "_view_module_version": "1.2.0",
            "_view_name": "LayoutView",
            "align_content": null,
            "align_items": null,
            "align_self": null,
            "border": null,
            "bottom": null,
            "display": null,
            "flex": null,
            "flex_flow": null,
            "grid_area": null,
            "grid_auto_columns": null,
            "grid_auto_flow": null,
            "grid_auto_rows": null,
            "grid_column": null,
            "grid_gap": null,
            "grid_row": null,
            "grid_template_areas": null,
            "grid_template_columns": null,
            "grid_template_rows": null,
            "height": null,
            "justify_content": null,
            "justify_items": null,
            "left": null,
            "margin": null,
            "max_height": null,
            "max_width": null,
            "min_height": null,
            "min_width": null,
            "object_fit": null,
            "object_position": null,
            "order": null,
            "overflow": null,
            "overflow_x": null,
            "overflow_y": null,
            "padding": null,
            "right": null,
            "top": null,
            "visibility": null,
            "width": null
          }
        },
        "1bd1bd8dc2754b729d0145b6a35d12fb": {
          "model_module": "@jupyter-widgets/controls",
          "model_module_version": "1.5.0",
          "model_name": "ProgressStyleModel",
          "state": {
            "_model_module": "@jupyter-widgets/controls",
            "_model_module_version": "1.5.0",
            "_model_name": "ProgressStyleModel",
            "_view_count": null,
            "_view_module": "@jupyter-widgets/base",
            "_view_module_version": "1.2.0",
            "_view_name": "StyleView",
            "bar_color": null,
            "description_width": ""
          }
        },
        "1f662ecb761a498489f80880a8efcbe7": {
          "model_module": "@jupyter-widgets/base",
          "model_module_version": "1.2.0",
          "model_name": "LayoutModel",
          "state": {
            "_model_module": "@jupyter-widgets/base",
            "_model_module_version": "1.2.0",
            "_model_name": "LayoutModel",
            "_view_count": null,
            "_view_module": "@jupyter-widgets/base",
            "_view_module_version": "1.2.0",
            "_view_name": "LayoutView",
            "align_content": null,
            "align_items": null,
            "align_self": null,
            "border": null,
            "bottom": null,
            "display": null,
            "flex": null,
            "flex_flow": null,
            "grid_area": null,
            "grid_auto_columns": null,
            "grid_auto_flow": null,
            "grid_auto_rows": null,
            "grid_column": null,
            "grid_gap": null,
            "grid_row": null,
            "grid_template_areas": null,
            "grid_template_columns": null,
            "grid_template_rows": null,
            "height": null,
            "justify_content": null,
            "justify_items": null,
            "left": null,
            "margin": null,
            "max_height": null,
            "max_width": null,
            "min_height": null,
            "min_width": null,
            "object_fit": null,
            "object_position": null,
            "order": null,
            "overflow": null,
            "overflow_x": null,
            "overflow_y": null,
            "padding": null,
            "right": null,
            "top": null,
            "visibility": null,
            "width": null
          }
        },
        "255d0f84b0f242afb023734c4f661cc1": {
          "model_module": "@jupyter-widgets/controls",
          "model_module_version": "1.5.0",
          "model_name": "ProgressStyleModel",
          "state": {
            "_model_module": "@jupyter-widgets/controls",
            "_model_module_version": "1.5.0",
            "_model_name": "ProgressStyleModel",
            "_view_count": null,
            "_view_module": "@jupyter-widgets/base",
            "_view_module_version": "1.2.0",
            "_view_name": "StyleView",
            "bar_color": null,
            "description_width": ""
          }
        },
        "28b6558220bb442494869c83ae4bd079": {
          "model_module": "@jupyter-widgets/base",
          "model_module_version": "1.2.0",
          "model_name": "LayoutModel",
          "state": {
            "_model_module": "@jupyter-widgets/base",
            "_model_module_version": "1.2.0",
            "_model_name": "LayoutModel",
            "_view_count": null,
            "_view_module": "@jupyter-widgets/base",
            "_view_module_version": "1.2.0",
            "_view_name": "LayoutView",
            "align_content": null,
            "align_items": null,
            "align_self": null,
            "border": null,
            "bottom": null,
            "display": null,
            "flex": null,
            "flex_flow": null,
            "grid_area": null,
            "grid_auto_columns": null,
            "grid_auto_flow": null,
            "grid_auto_rows": null,
            "grid_column": null,
            "grid_gap": null,
            "grid_row": null,
            "grid_template_areas": null,
            "grid_template_columns": null,
            "grid_template_rows": null,
            "height": null,
            "justify_content": null,
            "justify_items": null,
            "left": null,
            "margin": null,
            "max_height": null,
            "max_width": null,
            "min_height": null,
            "min_width": null,
            "object_fit": null,
            "object_position": null,
            "order": null,
            "overflow": null,
            "overflow_x": null,
            "overflow_y": null,
            "padding": null,
            "right": null,
            "top": null,
            "visibility": null,
            "width": null
          }
        },
        "2a743433a8eb4e03b761264b40ce3588": {
          "model_module": "@jupyter-widgets/controls",
          "model_module_version": "1.5.0",
          "model_name": "HTMLModel",
          "state": {
            "_dom_classes": [],
            "_model_module": "@jupyter-widgets/controls",
            "_model_module_version": "1.5.0",
            "_model_name": "HTMLModel",
            "_view_count": null,
            "_view_module": "@jupyter-widgets/controls",
            "_view_module_version": "1.5.0",
            "_view_name": "HTMLView",
            "description": "",
            "description_tooltip": null,
            "layout": "IPY_MODEL_28b6558220bb442494869c83ae4bd079",
            "placeholder": "​",
            "style": "IPY_MODEL_9ae66f83f0fe49ac85edc97d963ed93f",
            "value": "config.json: 100%"
          }
        },
        "2fcfc5b74c114382bb264529dab75beb": {
          "model_module": "@jupyter-widgets/base",
          "model_module_version": "1.2.0",
          "model_name": "LayoutModel",
          "state": {
            "_model_module": "@jupyter-widgets/base",
            "_model_module_version": "1.2.0",
            "_model_name": "LayoutModel",
            "_view_count": null,
            "_view_module": "@jupyter-widgets/base",
            "_view_module_version": "1.2.0",
            "_view_name": "LayoutView",
            "align_content": null,
            "align_items": null,
            "align_self": null,
            "border": null,
            "bottom": null,
            "display": null,
            "flex": null,
            "flex_flow": null,
            "grid_area": null,
            "grid_auto_columns": null,
            "grid_auto_flow": null,
            "grid_auto_rows": null,
            "grid_column": null,
            "grid_gap": null,
            "grid_row": null,
            "grid_template_areas": null,
            "grid_template_columns": null,
            "grid_template_rows": null,
            "height": null,
            "justify_content": null,
            "justify_items": null,
            "left": null,
            "margin": null,
            "max_height": null,
            "max_width": null,
            "min_height": null,
            "min_width": null,
            "object_fit": null,
            "object_position": null,
            "order": null,
            "overflow": null,
            "overflow_x": null,
            "overflow_y": null,
            "padding": null,
            "right": null,
            "top": null,
            "visibility": null,
            "width": null
          }
        },
        "31372e368bb348dc9629c01c912012ea": {
          "model_module": "@jupyter-widgets/controls",
          "model_module_version": "1.5.0",
          "model_name": "DescriptionStyleModel",
          "state": {
            "_model_module": "@jupyter-widgets/controls",
            "_model_module_version": "1.5.0",
            "_model_name": "DescriptionStyleModel",
            "_view_count": null,
            "_view_module": "@jupyter-widgets/base",
            "_view_module_version": "1.2.0",
            "_view_name": "StyleView",
            "description_width": ""
          }
        },
        "31821ba752834f8e8237fcd952a16397": {
          "model_module": "@jupyter-widgets/base",
          "model_module_version": "1.2.0",
          "model_name": "LayoutModel",
          "state": {
            "_model_module": "@jupyter-widgets/base",
            "_model_module_version": "1.2.0",
            "_model_name": "LayoutModel",
            "_view_count": null,
            "_view_module": "@jupyter-widgets/base",
            "_view_module_version": "1.2.0",
            "_view_name": "LayoutView",
            "align_content": null,
            "align_items": null,
            "align_self": null,
            "border": null,
            "bottom": null,
            "display": null,
            "flex": null,
            "flex_flow": null,
            "grid_area": null,
            "grid_auto_columns": null,
            "grid_auto_flow": null,
            "grid_auto_rows": null,
            "grid_column": null,
            "grid_gap": null,
            "grid_row": null,
            "grid_template_areas": null,
            "grid_template_columns": null,
            "grid_template_rows": null,
            "height": null,
            "justify_content": null,
            "justify_items": null,
            "left": null,
            "margin": null,
            "max_height": null,
            "max_width": null,
            "min_height": null,
            "min_width": null,
            "object_fit": null,
            "object_position": null,
            "order": null,
            "overflow": null,
            "overflow_x": null,
            "overflow_y": null,
            "padding": null,
            "right": null,
            "top": null,
            "visibility": null,
            "width": null
          }
        },
        "31eb267161d34f3a8e4f8b0f6a1613e6": {
          "model_module": "@jupyter-widgets/controls",
          "model_module_version": "1.5.0",
          "model_name": "DescriptionStyleModel",
          "state": {
            "_model_module": "@jupyter-widgets/controls",
            "_model_module_version": "1.5.0",
            "_model_name": "DescriptionStyleModel",
            "_view_count": null,
            "_view_module": "@jupyter-widgets/base",
            "_view_module_version": "1.2.0",
            "_view_name": "StyleView",
            "description_width": ""
          }
        },
        "35402973a9d04fbcbe0c00e7564447cd": {
          "model_module": "@jupyter-widgets/controls",
          "model_module_version": "1.5.0",
          "model_name": "HTMLModel",
          "state": {
            "_dom_classes": [],
            "_model_module": "@jupyter-widgets/controls",
            "_model_module_version": "1.5.0",
            "_model_name": "HTMLModel",
            "_view_count": null,
            "_view_module": "@jupyter-widgets/controls",
            "_view_module_version": "1.5.0",
            "_view_name": "HTMLView",
            "description": "",
            "description_tooltip": null,
            "layout": "IPY_MODEL_3edb730d3a7743d2b42d2fb444566aa2",
            "placeholder": "​",
            "style": "IPY_MODEL_ab675c508d53487e99c4f198229b3d0d",
            "value": " 48.0/48.0 [00:00&lt;00:00, 1.72kB/s]"
          }
        },
        "3edb730d3a7743d2b42d2fb444566aa2": {
          "model_module": "@jupyter-widgets/base",
          "model_module_version": "1.2.0",
          "model_name": "LayoutModel",
          "state": {
            "_model_module": "@jupyter-widgets/base",
            "_model_module_version": "1.2.0",
            "_model_name": "LayoutModel",
            "_view_count": null,
            "_view_module": "@jupyter-widgets/base",
            "_view_module_version": "1.2.0",
            "_view_name": "LayoutView",
            "align_content": null,
            "align_items": null,
            "align_self": null,
            "border": null,
            "bottom": null,
            "display": null,
            "flex": null,
            "flex_flow": null,
            "grid_area": null,
            "grid_auto_columns": null,
            "grid_auto_flow": null,
            "grid_auto_rows": null,
            "grid_column": null,
            "grid_gap": null,
            "grid_row": null,
            "grid_template_areas": null,
            "grid_template_columns": null,
            "grid_template_rows": null,
            "height": null,
            "justify_content": null,
            "justify_items": null,
            "left": null,
            "margin": null,
            "max_height": null,
            "max_width": null,
            "min_height": null,
            "min_width": null,
            "object_fit": null,
            "object_position": null,
            "order": null,
            "overflow": null,
            "overflow_x": null,
            "overflow_y": null,
            "padding": null,
            "right": null,
            "top": null,
            "visibility": null,
            "width": null
          }
        },
        "3fe1141f37ef4903809aa3e5d3afc202": {
          "model_module": "@jupyter-widgets/base",
          "model_module_version": "1.2.0",
          "model_name": "LayoutModel",
          "state": {
            "_model_module": "@jupyter-widgets/base",
            "_model_module_version": "1.2.0",
            "_model_name": "LayoutModel",
            "_view_count": null,
            "_view_module": "@jupyter-widgets/base",
            "_view_module_version": "1.2.0",
            "_view_name": "LayoutView",
            "align_content": null,
            "align_items": null,
            "align_self": null,
            "border": null,
            "bottom": null,
            "display": null,
            "flex": null,
            "flex_flow": null,
            "grid_area": null,
            "grid_auto_columns": null,
            "grid_auto_flow": null,
            "grid_auto_rows": null,
            "grid_column": null,
            "grid_gap": null,
            "grid_row": null,
            "grid_template_areas": null,
            "grid_template_columns": null,
            "grid_template_rows": null,
            "height": null,
            "justify_content": null,
            "justify_items": null,
            "left": null,
            "margin": null,
            "max_height": null,
            "max_width": null,
            "min_height": null,
            "min_width": null,
            "object_fit": null,
            "object_position": null,
            "order": null,
            "overflow": null,
            "overflow_x": null,
            "overflow_y": null,
            "padding": null,
            "right": null,
            "top": null,
            "visibility": null,
            "width": null
          }
        },
        "47abdd8b9c4c46498fc2835a8da57b60": {
          "model_module": "@jupyter-widgets/controls",
          "model_module_version": "1.5.0",
          "model_name": "HTMLModel",
          "state": {
            "_dom_classes": [],
            "_model_module": "@jupyter-widgets/controls",
            "_model_module_version": "1.5.0",
            "_model_name": "HTMLModel",
            "_view_count": null,
            "_view_module": "@jupyter-widgets/controls",
            "_view_module_version": "1.5.0",
            "_view_name": "HTMLView",
            "description": "",
            "description_tooltip": null,
            "layout": "IPY_MODEL_f269be7280804cfea420d68914d2e126",
            "placeholder": "​",
            "style": "IPY_MODEL_dd5d9cba8ffb4b0381b41848a79db205",
            "value": "vocab.txt: 100%"
          }
        },
        "4a3fd01587f944ba8c6185aa25716a22": {
          "model_module": "@jupyter-widgets/controls",
          "model_module_version": "1.5.0",
          "model_name": "HTMLModel",
          "state": {
            "_dom_classes": [],
            "_model_module": "@jupyter-widgets/controls",
            "_model_module_version": "1.5.0",
            "_model_name": "HTMLModel",
            "_view_count": null,
            "_view_module": "@jupyter-widgets/controls",
            "_view_module_version": "1.5.0",
            "_view_name": "HTMLView",
            "description": "",
            "description_tooltip": null,
            "layout": "IPY_MODEL_633d87c6cf484b7e8ad9ad7bc890b1c2",
            "placeholder": "​",
            "style": "IPY_MODEL_6c600428869742ec8cde11c5188b83f3",
            "value": " 440M/440M [00:05&lt;00:00, 77.4MB/s]"
          }
        },
        "4bf00a056b7e4157824a4b5baf1ad4fe": {
          "model_module": "@jupyter-widgets/base",
          "model_module_version": "1.2.0",
          "model_name": "LayoutModel",
          "state": {
            "_model_module": "@jupyter-widgets/base",
            "_model_module_version": "1.2.0",
            "_model_name": "LayoutModel",
            "_view_count": null,
            "_view_module": "@jupyter-widgets/base",
            "_view_module_version": "1.2.0",
            "_view_name": "LayoutView",
            "align_content": null,
            "align_items": null,
            "align_self": null,
            "border": null,
            "bottom": null,
            "display": null,
            "flex": null,
            "flex_flow": null,
            "grid_area": null,
            "grid_auto_columns": null,
            "grid_auto_flow": null,
            "grid_auto_rows": null,
            "grid_column": null,
            "grid_gap": null,
            "grid_row": null,
            "grid_template_areas": null,
            "grid_template_columns": null,
            "grid_template_rows": null,
            "height": null,
            "justify_content": null,
            "justify_items": null,
            "left": null,
            "margin": null,
            "max_height": null,
            "max_width": null,
            "min_height": null,
            "min_width": null,
            "object_fit": null,
            "object_position": null,
            "order": null,
            "overflow": null,
            "overflow_x": null,
            "overflow_y": null,
            "padding": null,
            "right": null,
            "top": null,
            "visibility": null,
            "width": null
          }
        },
        "4bfce418208f47a1824ccbbf01fcc5be": {
          "model_module": "@jupyter-widgets/base",
          "model_module_version": "1.2.0",
          "model_name": "LayoutModel",
          "state": {
            "_model_module": "@jupyter-widgets/base",
            "_model_module_version": "1.2.0",
            "_model_name": "LayoutModel",
            "_view_count": null,
            "_view_module": "@jupyter-widgets/base",
            "_view_module_version": "1.2.0",
            "_view_name": "LayoutView",
            "align_content": null,
            "align_items": null,
            "align_self": null,
            "border": null,
            "bottom": null,
            "display": null,
            "flex": null,
            "flex_flow": null,
            "grid_area": null,
            "grid_auto_columns": null,
            "grid_auto_flow": null,
            "grid_auto_rows": null,
            "grid_column": null,
            "grid_gap": null,
            "grid_row": null,
            "grid_template_areas": null,
            "grid_template_columns": null,
            "grid_template_rows": null,
            "height": null,
            "justify_content": null,
            "justify_items": null,
            "left": null,
            "margin": null,
            "max_height": null,
            "max_width": null,
            "min_height": null,
            "min_width": null,
            "object_fit": null,
            "object_position": null,
            "order": null,
            "overflow": null,
            "overflow_x": null,
            "overflow_y": null,
            "padding": null,
            "right": null,
            "top": null,
            "visibility": null,
            "width": null
          }
        },
        "4eb72aedd3cb4067a6b45f716099b51d": {
          "model_module": "@jupyter-widgets/controls",
          "model_module_version": "1.5.0",
          "model_name": "HTMLModel",
          "state": {
            "_dom_classes": [],
            "_model_module": "@jupyter-widgets/controls",
            "_model_module_version": "1.5.0",
            "_model_name": "HTMLModel",
            "_view_count": null,
            "_view_module": "@jupyter-widgets/controls",
            "_view_module_version": "1.5.0",
            "_view_name": "HTMLView",
            "description": "",
            "description_tooltip": null,
            "layout": "IPY_MODEL_824ade42ab514e3b916f665f58897813",
            "placeholder": "​",
            "style": "IPY_MODEL_f5536592cbb04b2aab36c1d7ac537f74",
            "value": "tokenizer.json: 100%"
          }
        },
        "585f7d4efe8844b3895f856a070741c1": {
          "model_module": "@jupyter-widgets/base",
          "model_module_version": "1.2.0",
          "model_name": "LayoutModel",
          "state": {
            "_model_module": "@jupyter-widgets/base",
            "_model_module_version": "1.2.0",
            "_model_name": "LayoutModel",
            "_view_count": null,
            "_view_module": "@jupyter-widgets/base",
            "_view_module_version": "1.2.0",
            "_view_name": "LayoutView",
            "align_content": null,
            "align_items": null,
            "align_self": null,
            "border": null,
            "bottom": null,
            "display": null,
            "flex": null,
            "flex_flow": null,
            "grid_area": null,
            "grid_auto_columns": null,
            "grid_auto_flow": null,
            "grid_auto_rows": null,
            "grid_column": null,
            "grid_gap": null,
            "grid_row": null,
            "grid_template_areas": null,
            "grid_template_columns": null,
            "grid_template_rows": null,
            "height": null,
            "justify_content": null,
            "justify_items": null,
            "left": null,
            "margin": null,
            "max_height": null,
            "max_width": null,
            "min_height": null,
            "min_width": null,
            "object_fit": null,
            "object_position": null,
            "order": null,
            "overflow": null,
            "overflow_x": null,
            "overflow_y": null,
            "padding": null,
            "right": null,
            "top": null,
            "visibility": null,
            "width": null
          }
        },
        "633d87c6cf484b7e8ad9ad7bc890b1c2": {
          "model_module": "@jupyter-widgets/base",
          "model_module_version": "1.2.0",
          "model_name": "LayoutModel",
          "state": {
            "_model_module": "@jupyter-widgets/base",
            "_model_module_version": "1.2.0",
            "_model_name": "LayoutModel",
            "_view_count": null,
            "_view_module": "@jupyter-widgets/base",
            "_view_module_version": "1.2.0",
            "_view_name": "LayoutView",
            "align_content": null,
            "align_items": null,
            "align_self": null,
            "border": null,
            "bottom": null,
            "display": null,
            "flex": null,
            "flex_flow": null,
            "grid_area": null,
            "grid_auto_columns": null,
            "grid_auto_flow": null,
            "grid_auto_rows": null,
            "grid_column": null,
            "grid_gap": null,
            "grid_row": null,
            "grid_template_areas": null,
            "grid_template_columns": null,
            "grid_template_rows": null,
            "height": null,
            "justify_content": null,
            "justify_items": null,
            "left": null,
            "margin": null,
            "max_height": null,
            "max_width": null,
            "min_height": null,
            "min_width": null,
            "object_fit": null,
            "object_position": null,
            "order": null,
            "overflow": null,
            "overflow_x": null,
            "overflow_y": null,
            "padding": null,
            "right": null,
            "top": null,
            "visibility": null,
            "width": null
          }
        },
        "6452617505b840a388811fd385f34517": {
          "model_module": "@jupyter-widgets/controls",
          "model_module_version": "1.5.0",
          "model_name": "FloatProgressModel",
          "state": {
            "_dom_classes": [],
            "_model_module": "@jupyter-widgets/controls",
            "_model_module_version": "1.5.0",
            "_model_name": "FloatProgressModel",
            "_view_count": null,
            "_view_module": "@jupyter-widgets/controls",
            "_view_module_version": "1.5.0",
            "_view_name": "ProgressView",
            "bar_style": "success",
            "description": "",
            "description_tooltip": null,
            "layout": "IPY_MODEL_4bfce418208f47a1824ccbbf01fcc5be",
            "max": 466062,
            "min": 0,
            "orientation": "horizontal",
            "style": "IPY_MODEL_03656e1103cc460bb07580bac6903564",
            "value": 466062
          }
        },
        "65f3ff951e10485ca269f399be33babf": {
          "model_module": "@jupyter-widgets/controls",
          "model_module_version": "1.5.0",
          "model_name": "DescriptionStyleModel",
          "state": {
            "_model_module": "@jupyter-widgets/controls",
            "_model_module_version": "1.5.0",
            "_model_name": "DescriptionStyleModel",
            "_view_count": null,
            "_view_module": "@jupyter-widgets/base",
            "_view_module_version": "1.2.0",
            "_view_name": "StyleView",
            "description_width": ""
          }
        },
        "6c600428869742ec8cde11c5188b83f3": {
          "model_module": "@jupyter-widgets/controls",
          "model_module_version": "1.5.0",
          "model_name": "DescriptionStyleModel",
          "state": {
            "_model_module": "@jupyter-widgets/controls",
            "_model_module_version": "1.5.0",
            "_model_name": "DescriptionStyleModel",
            "_view_count": null,
            "_view_module": "@jupyter-widgets/base",
            "_view_module_version": "1.2.0",
            "_view_name": "StyleView",
            "description_width": ""
          }
        },
        "7140b48ffd37400ca61c58628c5728ee": {
          "model_module": "@jupyter-widgets/base",
          "model_module_version": "1.2.0",
          "model_name": "LayoutModel",
          "state": {
            "_model_module": "@jupyter-widgets/base",
            "_model_module_version": "1.2.0",
            "_model_name": "LayoutModel",
            "_view_count": null,
            "_view_module": "@jupyter-widgets/base",
            "_view_module_version": "1.2.0",
            "_view_name": "LayoutView",
            "align_content": null,
            "align_items": null,
            "align_self": null,
            "border": null,
            "bottom": null,
            "display": null,
            "flex": null,
            "flex_flow": null,
            "grid_area": null,
            "grid_auto_columns": null,
            "grid_auto_flow": null,
            "grid_auto_rows": null,
            "grid_column": null,
            "grid_gap": null,
            "grid_row": null,
            "grid_template_areas": null,
            "grid_template_columns": null,
            "grid_template_rows": null,
            "height": null,
            "justify_content": null,
            "justify_items": null,
            "left": null,
            "margin": null,
            "max_height": null,
            "max_width": null,
            "min_height": null,
            "min_width": null,
            "object_fit": null,
            "object_position": null,
            "order": null,
            "overflow": null,
            "overflow_x": null,
            "overflow_y": null,
            "padding": null,
            "right": null,
            "top": null,
            "visibility": null,
            "width": null
          }
        },
        "777b6b5c63d34da48988d84ed3832bb1": {
          "model_module": "@jupyter-widgets/base",
          "model_module_version": "1.2.0",
          "model_name": "LayoutModel",
          "state": {
            "_model_module": "@jupyter-widgets/base",
            "_model_module_version": "1.2.0",
            "_model_name": "LayoutModel",
            "_view_count": null,
            "_view_module": "@jupyter-widgets/base",
            "_view_module_version": "1.2.0",
            "_view_name": "LayoutView",
            "align_content": null,
            "align_items": null,
            "align_self": null,
            "border": null,
            "bottom": null,
            "display": null,
            "flex": null,
            "flex_flow": null,
            "grid_area": null,
            "grid_auto_columns": null,
            "grid_auto_flow": null,
            "grid_auto_rows": null,
            "grid_column": null,
            "grid_gap": null,
            "grid_row": null,
            "grid_template_areas": null,
            "grid_template_columns": null,
            "grid_template_rows": null,
            "height": null,
            "justify_content": null,
            "justify_items": null,
            "left": null,
            "margin": null,
            "max_height": null,
            "max_width": null,
            "min_height": null,
            "min_width": null,
            "object_fit": null,
            "object_position": null,
            "order": null,
            "overflow": null,
            "overflow_x": null,
            "overflow_y": null,
            "padding": null,
            "right": null,
            "top": null,
            "visibility": null,
            "width": null
          }
        },
        "7a04e2e9bfdb48e1b4a990ede2153a25": {
          "model_module": "@jupyter-widgets/controls",
          "model_module_version": "1.5.0",
          "model_name": "DescriptionStyleModel",
          "state": {
            "_model_module": "@jupyter-widgets/controls",
            "_model_module_version": "1.5.0",
            "_model_name": "DescriptionStyleModel",
            "_view_count": null,
            "_view_module": "@jupyter-widgets/base",
            "_view_module_version": "1.2.0",
            "_view_name": "StyleView",
            "description_width": ""
          }
        },
        "7d5a22a3e2104a1ba7b1a3583907418d": {
          "model_module": "@jupyter-widgets/controls",
          "model_module_version": "1.5.0",
          "model_name": "HTMLModel",
          "state": {
            "_dom_classes": [],
            "_model_module": "@jupyter-widgets/controls",
            "_model_module_version": "1.5.0",
            "_model_name": "HTMLModel",
            "_view_count": null,
            "_view_module": "@jupyter-widgets/controls",
            "_view_module_version": "1.5.0",
            "_view_name": "HTMLView",
            "description": "",
            "description_tooltip": null,
            "layout": "IPY_MODEL_127246245d2f4185adc96812c8e5b82d",
            "placeholder": "​",
            "style": "IPY_MODEL_d71de5822e4e4835a2fbecf343264faf",
            "value": " 570/570 [00:00&lt;00:00, 18.1kB/s]"
          }
        },
        "809dc6b6bbe44af49ac3786076f220f1": {
          "model_module": "@jupyter-widgets/controls",
          "model_module_version": "1.5.0",
          "model_name": "HBoxModel",
          "state": {
            "_dom_classes": [],
            "_model_module": "@jupyter-widgets/controls",
            "_model_module_version": "1.5.0",
            "_model_name": "HBoxModel",
            "_view_count": null,
            "_view_module": "@jupyter-widgets/controls",
            "_view_module_version": "1.5.0",
            "_view_name": "HBoxView",
            "box_style": "",
            "children": [
              "IPY_MODEL_2a743433a8eb4e03b761264b40ce3588",
              "IPY_MODEL_da8cf81e851b49f7acc0acf946209338",
              "IPY_MODEL_7d5a22a3e2104a1ba7b1a3583907418d"
            ],
            "layout": "IPY_MODEL_84bd6ca2cbd7451ea0366f4ecd9f1dd8"
          }
        },
        "824ade42ab514e3b916f665f58897813": {
          "model_module": "@jupyter-widgets/base",
          "model_module_version": "1.2.0",
          "model_name": "LayoutModel",
          "state": {
            "_model_module": "@jupyter-widgets/base",
            "_model_module_version": "1.2.0",
            "_model_name": "LayoutModel",
            "_view_count": null,
            "_view_module": "@jupyter-widgets/base",
            "_view_module_version": "1.2.0",
            "_view_name": "LayoutView",
            "align_content": null,
            "align_items": null,
            "align_self": null,
            "border": null,
            "bottom": null,
            "display": null,
            "flex": null,
            "flex_flow": null,
            "grid_area": null,
            "grid_auto_columns": null,
            "grid_auto_flow": null,
            "grid_auto_rows": null,
            "grid_column": null,
            "grid_gap": null,
            "grid_row": null,
            "grid_template_areas": null,
            "grid_template_columns": null,
            "grid_template_rows": null,
            "height": null,
            "justify_content": null,
            "justify_items": null,
            "left": null,
            "margin": null,
            "max_height": null,
            "max_width": null,
            "min_height": null,
            "min_width": null,
            "object_fit": null,
            "object_position": null,
            "order": null,
            "overflow": null,
            "overflow_x": null,
            "overflow_y": null,
            "padding": null,
            "right": null,
            "top": null,
            "visibility": null,
            "width": null
          }
        },
        "84bd6ca2cbd7451ea0366f4ecd9f1dd8": {
          "model_module": "@jupyter-widgets/base",
          "model_module_version": "1.2.0",
          "model_name": "LayoutModel",
          "state": {
            "_model_module": "@jupyter-widgets/base",
            "_model_module_version": "1.2.0",
            "_model_name": "LayoutModel",
            "_view_count": null,
            "_view_module": "@jupyter-widgets/base",
            "_view_module_version": "1.2.0",
            "_view_name": "LayoutView",
            "align_content": null,
            "align_items": null,
            "align_self": null,
            "border": null,
            "bottom": null,
            "display": null,
            "flex": null,
            "flex_flow": null,
            "grid_area": null,
            "grid_auto_columns": null,
            "grid_auto_flow": null,
            "grid_auto_rows": null,
            "grid_column": null,
            "grid_gap": null,
            "grid_row": null,
            "grid_template_areas": null,
            "grid_template_columns": null,
            "grid_template_rows": null,
            "height": null,
            "justify_content": null,
            "justify_items": null,
            "left": null,
            "margin": null,
            "max_height": null,
            "max_width": null,
            "min_height": null,
            "min_width": null,
            "object_fit": null,
            "object_position": null,
            "order": null,
            "overflow": null,
            "overflow_x": null,
            "overflow_y": null,
            "padding": null,
            "right": null,
            "top": null,
            "visibility": null,
            "width": null
          }
        },
        "874c263f4ffd4ada8086cfaad50c52ce": {
          "model_module": "@jupyter-widgets/controls",
          "model_module_version": "1.5.0",
          "model_name": "FloatProgressModel",
          "state": {
            "_dom_classes": [],
            "_model_module": "@jupyter-widgets/controls",
            "_model_module_version": "1.5.0",
            "_model_name": "FloatProgressModel",
            "_view_count": null,
            "_view_module": "@jupyter-widgets/controls",
            "_view_module_version": "1.5.0",
            "_view_name": "ProgressView",
            "bar_style": "success",
            "description": "",
            "description_tooltip": null,
            "layout": "IPY_MODEL_2fcfc5b74c114382bb264529dab75beb",
            "max": 231508,
            "min": 0,
            "orientation": "horizontal",
            "style": "IPY_MODEL_ece93669a5b94a4a8032addca0fedf6f",
            "value": 231508
          }
        },
        "8b12170db5fd4e189b6c12fe07904aa7": {
          "model_module": "@jupyter-widgets/base",
          "model_module_version": "1.2.0",
          "model_name": "LayoutModel",
          "state": {
            "_model_module": "@jupyter-widgets/base",
            "_model_module_version": "1.2.0",
            "_model_name": "LayoutModel",
            "_view_count": null,
            "_view_module": "@jupyter-widgets/base",
            "_view_module_version": "1.2.0",
            "_view_name": "LayoutView",
            "align_content": null,
            "align_items": null,
            "align_self": null,
            "border": null,
            "bottom": null,
            "display": null,
            "flex": null,
            "flex_flow": null,
            "grid_area": null,
            "grid_auto_columns": null,
            "grid_auto_flow": null,
            "grid_auto_rows": null,
            "grid_column": null,
            "grid_gap": null,
            "grid_row": null,
            "grid_template_areas": null,
            "grid_template_columns": null,
            "grid_template_rows": null,
            "height": null,
            "justify_content": null,
            "justify_items": null,
            "left": null,
            "margin": null,
            "max_height": null,
            "max_width": null,
            "min_height": null,
            "min_width": null,
            "object_fit": null,
            "object_position": null,
            "order": null,
            "overflow": null,
            "overflow_x": null,
            "overflow_y": null,
            "padding": null,
            "right": null,
            "top": null,
            "visibility": null,
            "width": null
          }
        },
        "9070832e254d4a2e8f6e5ca0f35b828c": {
          "model_module": "@jupyter-widgets/controls",
          "model_module_version": "1.5.0",
          "model_name": "HBoxModel",
          "state": {
            "_dom_classes": [],
            "_model_module": "@jupyter-widgets/controls",
            "_model_module_version": "1.5.0",
            "_model_name": "HBoxModel",
            "_view_count": null,
            "_view_module": "@jupyter-widgets/controls",
            "_view_module_version": "1.5.0",
            "_view_name": "HBoxView",
            "box_style": "",
            "children": [
              "IPY_MODEL_093bb73b55a54618aee9e554363f0c33",
              "IPY_MODEL_021c1391dc6747df84b002bacf1328cd",
              "IPY_MODEL_4a3fd01587f944ba8c6185aa25716a22"
            ],
            "layout": "IPY_MODEL_8b12170db5fd4e189b6c12fe07904aa7"
          }
        },
        "959869b025144b2c86fde6fa515abff3": {
          "model_module": "@jupyter-widgets/controls",
          "model_module_version": "1.5.0",
          "model_name": "HBoxModel",
          "state": {
            "_dom_classes": [],
            "_model_module": "@jupyter-widgets/controls",
            "_model_module_version": "1.5.0",
            "_model_name": "HBoxModel",
            "_view_count": null,
            "_view_module": "@jupyter-widgets/controls",
            "_view_module_version": "1.5.0",
            "_view_name": "HBoxView",
            "box_style": "",
            "children": [
              "IPY_MODEL_47abdd8b9c4c46498fc2835a8da57b60",
              "IPY_MODEL_874c263f4ffd4ada8086cfaad50c52ce",
              "IPY_MODEL_dd776ddb74c54220ad51519ebab01669"
            ],
            "layout": "IPY_MODEL_1f662ecb761a498489f80880a8efcbe7"
          }
        },
        "9ae66f83f0fe49ac85edc97d963ed93f": {
          "model_module": "@jupyter-widgets/controls",
          "model_module_version": "1.5.0",
          "model_name": "DescriptionStyleModel",
          "state": {
            "_model_module": "@jupyter-widgets/controls",
            "_model_module_version": "1.5.0",
            "_model_name": "DescriptionStyleModel",
            "_view_count": null,
            "_view_module": "@jupyter-widgets/base",
            "_view_module_version": "1.2.0",
            "_view_name": "StyleView",
            "description_width": ""
          }
        },
        "aae1f2854fa84544b80b2d61d3f71910": {
          "model_module": "@jupyter-widgets/controls",
          "model_module_version": "1.5.0",
          "model_name": "HTMLModel",
          "state": {
            "_dom_classes": [],
            "_model_module": "@jupyter-widgets/controls",
            "_model_module_version": "1.5.0",
            "_model_name": "HTMLModel",
            "_view_count": null,
            "_view_module": "@jupyter-widgets/controls",
            "_view_module_version": "1.5.0",
            "_view_name": "HTMLView",
            "description": "",
            "description_tooltip": null,
            "layout": "IPY_MODEL_e45f7a7fef85475b911cd68c9bf1581f",
            "placeholder": "​",
            "style": "IPY_MODEL_31eb267161d34f3a8e4f8b0f6a1613e6",
            "value": "tokenizer_config.json: 100%"
          }
        },
        "ab675c508d53487e99c4f198229b3d0d": {
          "model_module": "@jupyter-widgets/controls",
          "model_module_version": "1.5.0",
          "model_name": "DescriptionStyleModel",
          "state": {
            "_model_module": "@jupyter-widgets/controls",
            "_model_module_version": "1.5.0",
            "_model_name": "DescriptionStyleModel",
            "_view_count": null,
            "_view_module": "@jupyter-widgets/base",
            "_view_module_version": "1.2.0",
            "_view_name": "StyleView",
            "description_width": ""
          }
        },
        "d71de5822e4e4835a2fbecf343264faf": {
          "model_module": "@jupyter-widgets/controls",
          "model_module_version": "1.5.0",
          "model_name": "DescriptionStyleModel",
          "state": {
            "_model_module": "@jupyter-widgets/controls",
            "_model_module_version": "1.5.0",
            "_model_name": "DescriptionStyleModel",
            "_view_count": null,
            "_view_module": "@jupyter-widgets/base",
            "_view_module_version": "1.2.0",
            "_view_name": "StyleView",
            "description_width": ""
          }
        },
        "da8cf81e851b49f7acc0acf946209338": {
          "model_module": "@jupyter-widgets/controls",
          "model_module_version": "1.5.0",
          "model_name": "FloatProgressModel",
          "state": {
            "_dom_classes": [],
            "_model_module": "@jupyter-widgets/controls",
            "_model_module_version": "1.5.0",
            "_model_name": "FloatProgressModel",
            "_view_count": null,
            "_view_module": "@jupyter-widgets/controls",
            "_view_module_version": "1.5.0",
            "_view_name": "ProgressView",
            "bar_style": "success",
            "description": "",
            "description_tooltip": null,
            "layout": "IPY_MODEL_585f7d4efe8844b3895f856a070741c1",
            "max": 570,
            "min": 0,
            "orientation": "horizontal",
            "style": "IPY_MODEL_1bd1bd8dc2754b729d0145b6a35d12fb",
            "value": 570
          }
        },
        "dd5d9cba8ffb4b0381b41848a79db205": {
          "model_module": "@jupyter-widgets/controls",
          "model_module_version": "1.5.0",
          "model_name": "DescriptionStyleModel",
          "state": {
            "_model_module": "@jupyter-widgets/controls",
            "_model_module_version": "1.5.0",
            "_model_name": "DescriptionStyleModel",
            "_view_count": null,
            "_view_module": "@jupyter-widgets/base",
            "_view_module_version": "1.2.0",
            "_view_name": "StyleView",
            "description_width": ""
          }
        },
        "dd776ddb74c54220ad51519ebab01669": {
          "model_module": "@jupyter-widgets/controls",
          "model_module_version": "1.5.0",
          "model_name": "HTMLModel",
          "state": {
            "_dom_classes": [],
            "_model_module": "@jupyter-widgets/controls",
            "_model_module_version": "1.5.0",
            "_model_name": "HTMLModel",
            "_view_count": null,
            "_view_module": "@jupyter-widgets/controls",
            "_view_module_version": "1.5.0",
            "_view_name": "HTMLView",
            "description": "",
            "description_tooltip": null,
            "layout": "IPY_MODEL_ea8b3f0d4d8d4f01acaaf6d9aaf9d8c7",
            "placeholder": "​",
            "style": "IPY_MODEL_7a04e2e9bfdb48e1b4a990ede2153a25",
            "value": " 232k/232k [00:00&lt;00:00, 1.69MB/s]"
          }
        },
        "e45f7a7fef85475b911cd68c9bf1581f": {
          "model_module": "@jupyter-widgets/base",
          "model_module_version": "1.2.0",
          "model_name": "LayoutModel",
          "state": {
            "_model_module": "@jupyter-widgets/base",
            "_model_module_version": "1.2.0",
            "_model_name": "LayoutModel",
            "_view_count": null,
            "_view_module": "@jupyter-widgets/base",
            "_view_module_version": "1.2.0",
            "_view_name": "LayoutView",
            "align_content": null,
            "align_items": null,
            "align_self": null,
            "border": null,
            "bottom": null,
            "display": null,
            "flex": null,
            "flex_flow": null,
            "grid_area": null,
            "grid_auto_columns": null,
            "grid_auto_flow": null,
            "grid_auto_rows": null,
            "grid_column": null,
            "grid_gap": null,
            "grid_row": null,
            "grid_template_areas": null,
            "grid_template_columns": null,
            "grid_template_rows": null,
            "height": null,
            "justify_content": null,
            "justify_items": null,
            "left": null,
            "margin": null,
            "max_height": null,
            "max_width": null,
            "min_height": null,
            "min_width": null,
            "object_fit": null,
            "object_position": null,
            "order": null,
            "overflow": null,
            "overflow_x": null,
            "overflow_y": null,
            "padding": null,
            "right": null,
            "top": null,
            "visibility": null,
            "width": null
          }
        },
        "ea8b3f0d4d8d4f01acaaf6d9aaf9d8c7": {
          "model_module": "@jupyter-widgets/base",
          "model_module_version": "1.2.0",
          "model_name": "LayoutModel",
          "state": {
            "_model_module": "@jupyter-widgets/base",
            "_model_module_version": "1.2.0",
            "_model_name": "LayoutModel",
            "_view_count": null,
            "_view_module": "@jupyter-widgets/base",
            "_view_module_version": "1.2.0",
            "_view_name": "LayoutView",
            "align_content": null,
            "align_items": null,
            "align_self": null,
            "border": null,
            "bottom": null,
            "display": null,
            "flex": null,
            "flex_flow": null,
            "grid_area": null,
            "grid_auto_columns": null,
            "grid_auto_flow": null,
            "grid_auto_rows": null,
            "grid_column": null,
            "grid_gap": null,
            "grid_row": null,
            "grid_template_areas": null,
            "grid_template_columns": null,
            "grid_template_rows": null,
            "height": null,
            "justify_content": null,
            "justify_items": null,
            "left": null,
            "margin": null,
            "max_height": null,
            "max_width": null,
            "min_height": null,
            "min_width": null,
            "object_fit": null,
            "object_position": null,
            "order": null,
            "overflow": null,
            "overflow_x": null,
            "overflow_y": null,
            "padding": null,
            "right": null,
            "top": null,
            "visibility": null,
            "width": null
          }
        },
        "ece93669a5b94a4a8032addca0fedf6f": {
          "model_module": "@jupyter-widgets/controls",
          "model_module_version": "1.5.0",
          "model_name": "ProgressStyleModel",
          "state": {
            "_model_module": "@jupyter-widgets/controls",
            "_model_module_version": "1.5.0",
            "_model_name": "ProgressStyleModel",
            "_view_count": null,
            "_view_module": "@jupyter-widgets/base",
            "_view_module_version": "1.2.0",
            "_view_name": "StyleView",
            "bar_color": null,
            "description_width": ""
          }
        },
        "ed1d48a206394427a5d27299f82b5553": {
          "model_module": "@jupyter-widgets/controls",
          "model_module_version": "1.5.0",
          "model_name": "HTMLModel",
          "state": {
            "_dom_classes": [],
            "_model_module": "@jupyter-widgets/controls",
            "_model_module_version": "1.5.0",
            "_model_name": "HTMLModel",
            "_view_count": null,
            "_view_module": "@jupyter-widgets/controls",
            "_view_module_version": "1.5.0",
            "_view_name": "HTMLView",
            "description": "",
            "description_tooltip": null,
            "layout": "IPY_MODEL_7140b48ffd37400ca61c58628c5728ee",
            "placeholder": "​",
            "style": "IPY_MODEL_65f3ff951e10485ca269f399be33babf",
            "value": " 466k/466k [00:00&lt;00:00, 12.1MB/s]"
          }
        },
        "f269be7280804cfea420d68914d2e126": {
          "model_module": "@jupyter-widgets/base",
          "model_module_version": "1.2.0",
          "model_name": "LayoutModel",
          "state": {
            "_model_module": "@jupyter-widgets/base",
            "_model_module_version": "1.2.0",
            "_model_name": "LayoutModel",
            "_view_count": null,
            "_view_module": "@jupyter-widgets/base",
            "_view_module_version": "1.2.0",
            "_view_name": "LayoutView",
            "align_content": null,
            "align_items": null,
            "align_self": null,
            "border": null,
            "bottom": null,
            "display": null,
            "flex": null,
            "flex_flow": null,
            "grid_area": null,
            "grid_auto_columns": null,
            "grid_auto_flow": null,
            "grid_auto_rows": null,
            "grid_column": null,
            "grid_gap": null,
            "grid_row": null,
            "grid_template_areas": null,
            "grid_template_columns": null,
            "grid_template_rows": null,
            "height": null,
            "justify_content": null,
            "justify_items": null,
            "left": null,
            "margin": null,
            "max_height": null,
            "max_width": null,
            "min_height": null,
            "min_width": null,
            "object_fit": null,
            "object_position": null,
            "order": null,
            "overflow": null,
            "overflow_x": null,
            "overflow_y": null,
            "padding": null,
            "right": null,
            "top": null,
            "visibility": null,
            "width": null
          }
        },
        "f5536592cbb04b2aab36c1d7ac537f74": {
          "model_module": "@jupyter-widgets/controls",
          "model_module_version": "1.5.0",
          "model_name": "DescriptionStyleModel",
          "state": {
            "_model_module": "@jupyter-widgets/controls",
            "_model_module_version": "1.5.0",
            "_model_name": "DescriptionStyleModel",
            "_view_count": null,
            "_view_module": "@jupyter-widgets/base",
            "_view_module_version": "1.2.0",
            "_view_name": "StyleView",
            "description_width": ""
          }
        },
        "f57deb59ff504f97970e2635d06e1735": {
          "model_module": "@jupyter-widgets/base",
          "model_module_version": "1.2.0",
          "model_name": "LayoutModel",
          "state": {
            "_model_module": "@jupyter-widgets/base",
            "_model_module_version": "1.2.0",
            "_model_name": "LayoutModel",
            "_view_count": null,
            "_view_module": "@jupyter-widgets/base",
            "_view_module_version": "1.2.0",
            "_view_name": "LayoutView",
            "align_content": null,
            "align_items": null,
            "align_self": null,
            "border": null,
            "bottom": null,
            "display": null,
            "flex": null,
            "flex_flow": null,
            "grid_area": null,
            "grid_auto_columns": null,
            "grid_auto_flow": null,
            "grid_auto_rows": null,
            "grid_column": null,
            "grid_gap": null,
            "grid_row": null,
            "grid_template_areas": null,
            "grid_template_columns": null,
            "grid_template_rows": null,
            "height": null,
            "justify_content": null,
            "justify_items": null,
            "left": null,
            "margin": null,
            "max_height": null,
            "max_width": null,
            "min_height": null,
            "min_width": null,
            "object_fit": null,
            "object_position": null,
            "order": null,
            "overflow": null,
            "overflow_x": null,
            "overflow_y": null,
            "padding": null,
            "right": null,
            "top": null,
            "visibility": null,
            "width": null
          }
        },
        "f7831494de504c63bb222e4e49bfc57c": {
          "model_module": "@jupyter-widgets/controls",
          "model_module_version": "1.5.0",
          "model_name": "FloatProgressModel",
          "state": {
            "_dom_classes": [],
            "_model_module": "@jupyter-widgets/controls",
            "_model_module_version": "1.5.0",
            "_model_name": "FloatProgressModel",
            "_view_count": null,
            "_view_module": "@jupyter-widgets/controls",
            "_view_module_version": "1.5.0",
            "_view_name": "ProgressView",
            "bar_style": "success",
            "description": "",
            "description_tooltip": null,
            "layout": "IPY_MODEL_31821ba752834f8e8237fcd952a16397",
            "max": 48,
            "min": 0,
            "orientation": "horizontal",
            "style": "IPY_MODEL_255d0f84b0f242afb023734c4f661cc1",
            "value": 48
          }
        },
        "f9eaae60482b498d9bbd821090979569": {
          "model_module": "@jupyter-widgets/controls",
          "model_module_version": "1.5.0",
          "model_name": "HBoxModel",
          "state": {
            "_dom_classes": [],
            "_model_module": "@jupyter-widgets/controls",
            "_model_module_version": "1.5.0",
            "_model_name": "HBoxModel",
            "_view_count": null,
            "_view_module": "@jupyter-widgets/controls",
            "_view_module_version": "1.5.0",
            "_view_name": "HBoxView",
            "box_style": "",
            "children": [
              "IPY_MODEL_4eb72aedd3cb4067a6b45f716099b51d",
              "IPY_MODEL_6452617505b840a388811fd385f34517",
              "IPY_MODEL_ed1d48a206394427a5d27299f82b5553"
            ],
            "layout": "IPY_MODEL_3fe1141f37ef4903809aa3e5d3afc202"
          }
        },
        "ff766ad4bc454d7db95b7d96c2d5bbd9": {
          "model_module": "@jupyter-widgets/controls",
          "model_module_version": "1.5.0",
          "model_name": "ProgressStyleModel",
          "state": {
            "_model_module": "@jupyter-widgets/controls",
            "_model_module_version": "1.5.0",
            "_model_name": "ProgressStyleModel",
            "_view_count": null,
            "_view_module": "@jupyter-widgets/base",
            "_view_module_version": "1.2.0",
            "_view_name": "StyleView",
            "bar_color": null,
            "description_width": ""
          }
        }
      }
    }
  },
  "nbformat": 4,
  "nbformat_minor": 0
}
